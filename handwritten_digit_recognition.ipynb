{
  "nbformat": 4,
  "nbformat_minor": 0,
  "metadata": {
    "colab": {
      "name": "handwritten digit display",
      "provenance": [],
      "collapsed_sections": [],
      "authorship_tag": "ABX9TyOBCLdAa33ZvpnJVYZ44R9h",
      "include_colab_link": true
    },
    "kernelspec": {
      "name": "python3",
      "display_name": "Python 3"
    },
    "accelerator": "GPU"
  },
  "cells": [
    {
      "cell_type": "markdown",
      "metadata": {
        "id": "view-in-github",
        "colab_type": "text"
      },
      "source": [
        "<a href=\"https://colab.research.google.com/github/AkanshaSantharam/Handwritten-Digit-Recognition-Using-Tensorflow-And-Keras/blob/master/handwritten_digit_recognition.ipynb\" target=\"_parent\"><img src=\"https://colab.research.google.com/assets/colab-badge.svg\" alt=\"Open In Colab\"/></a>"
      ]
    },
    {
      "cell_type": "code",
      "metadata": {
        "id": "DwwrBb9GgiE5"
      },
      "source": [
        "import keras\n",
        "import numpy as np"
      ],
      "execution_count": null,
      "outputs": []
    },
    {
      "cell_type": "code",
      "metadata": {
        "id": "Trgt6IEDhFnu"
      },
      "source": [
        "from keras.datasets import mnist"
      ],
      "execution_count": null,
      "outputs": []
    },
    {
      "cell_type": "code",
      "metadata": {
        "id": "x69ayPMph0og"
      },
      "source": [
        "data = mnist.load_data()"
      ],
      "execution_count": null,
      "outputs": []
    },
    {
      "cell_type": "code",
      "metadata": {
        "id": "s-S46UF-h_42"
      },
      "source": [
        "(train_images, train_labels), (test_images, test_labels) = data"
      ],
      "execution_count": null,
      "outputs": []
    },
    {
      "cell_type": "code",
      "metadata": {
        "colab": {
          "base_uri": "https://localhost:8080/"
        },
        "id": "sEk7wFkFiShx",
        "outputId": "9a744475-cfc4-4292-9846-c0e8585a8952"
      },
      "source": [
        "len(train_images)"
      ],
      "execution_count": null,
      "outputs": [
        {
          "output_type": "execute_result",
          "data": {
            "text/plain": [
              "60000"
            ]
          },
          "metadata": {
            "tags": []
          },
          "execution_count": 97
        }
      ]
    },
    {
      "cell_type": "code",
      "metadata": {
        "colab": {
          "base_uri": "https://localhost:8080/"
        },
        "id": "TQiMoqqniayI",
        "outputId": "c5f1036f-c6ab-4bdc-c7ab-77c8535889fd"
      },
      "source": [
        "len(train_labels)"
      ],
      "execution_count": null,
      "outputs": [
        {
          "output_type": "execute_result",
          "data": {
            "text/plain": [
              "60000"
            ]
          },
          "metadata": {
            "tags": []
          },
          "execution_count": 98
        }
      ]
    },
    {
      "cell_type": "code",
      "metadata": {
        "colab": {
          "base_uri": "https://localhost:8080/"
        },
        "id": "CVxMwPc-ieN1",
        "outputId": "e472f7b3-fb30-47f9-822f-553b5a5edc72"
      },
      "source": [
        "len(test_images)"
      ],
      "execution_count": null,
      "outputs": [
        {
          "output_type": "execute_result",
          "data": {
            "text/plain": [
              "10000"
            ]
          },
          "metadata": {
            "tags": []
          },
          "execution_count": 99
        }
      ]
    },
    {
      "cell_type": "code",
      "metadata": {
        "id": "g_lEV3RUioJb"
      },
      "source": [
        "train_images = train_images.reshape((60000, 28, 28, 1))"
      ],
      "execution_count": null,
      "outputs": []
    },
    {
      "cell_type": "code",
      "metadata": {
        "id": "RuoBrYzwi7DG"
      },
      "source": [
        "test_images =  test_images.reshape((10000, 28, 28, 1))"
      ],
      "execution_count": null,
      "outputs": []
    },
    {
      "cell_type": "code",
      "metadata": {
        "id": "TXAGXVm3jJpp"
      },
      "source": [
        "train_images = train_images.astype('float')/255"
      ],
      "execution_count": null,
      "outputs": []
    },
    {
      "cell_type": "code",
      "metadata": {
        "id": "46B9NjLZkxQD"
      },
      "source": [
        "test_images = test_images.astype('float')/255"
      ],
      "execution_count": null,
      "outputs": []
    },
    {
      "cell_type": "code",
      "metadata": {
        "id": "4UvpcZyAk_el"
      },
      "source": [
        "from keras.preprocessing import image\n",
        "import matplotlib.pyplot as plt"
      ],
      "execution_count": null,
      "outputs": []
    },
    {
      "cell_type": "code",
      "metadata": {
        "colab": {
          "base_uri": "https://localhost:8080/",
          "height": 282
        },
        "id": "4Mx-Ah1veohK",
        "outputId": "bb5ef319-8aa4-442e-d00d-923095e64c98"
      },
      "source": [
        "plt.imshow(image.array_to_img(train_images[4]),cmap=\"gray\")"
      ],
      "execution_count": null,
      "outputs": [
        {
          "output_type": "execute_result",
          "data": {
            "text/plain": [
              "<matplotlib.image.AxesImage at 0x7f95ef1bbe10>"
            ]
          },
          "metadata": {
            "tags": []
          },
          "execution_count": 105
        },
        {
          "output_type": "display_data",
          "data": {
            "image/png": "[encoded data removed]",
            "text/plain": [
              "<Figure size 432x288 with 1 Axes>"
            ]
          },
          "metadata": {
            "tags": [],
            "needs_background": "light"
          }
        }
      ]
    },
    {
      "cell_type": "code",
      "metadata": {
        "colab": {
          "base_uri": "https://localhost:8080/"
        },
        "id": "DAn6hLGHfb2g",
        "outputId": "8449b7d1-cf2f-4a6d-ac50-8620fc809e70"
      },
      "source": [
        "train_labels[4]"
      ],
      "execution_count": null,
      "outputs": [
        {
          "output_type": "execute_result",
          "data": {
            "text/plain": [
              "9"
            ]
          },
          "metadata": {
            "tags": []
          },
          "execution_count": 106
        }
      ]
    },
    {
      "cell_type": "code",
      "metadata": {
        "id": "Py2jcP-fftBh"
      },
      "source": [
        "from keras.utils import to_categorical\n",
        "train_labels_original = train_labels\n",
        "train_labels = to_categorical(train_labels)"
      ],
      "execution_count": null,
      "outputs": []
    },
    {
      "cell_type": "code",
      "metadata": {
        "colab": {
          "base_uri": "https://localhost:8080/"
        },
        "id": "g5EStd6sjEZU",
        "outputId": "dfed4076-b93c-4ed5-ca7e-ad508367535e"
      },
      "source": [
        "train_labels[20]"
      ],
      "execution_count": null,
      "outputs": [
        {
          "output_type": "execute_result",
          "data": {
            "text/plain": [
              "array([0., 0., 0., 0., 1., 0., 0., 0., 0., 0.], dtype=float32)"
            ]
          },
          "metadata": {
            "tags": []
          },
          "execution_count": 108
        }
      ]
    },
    {
      "cell_type": "code",
      "metadata": {
        "id": "67zyovEmjQZ6"
      },
      "source": [
        "test_labels_original =  test_labels\n",
        "test_labels =  to_categorical(test_labels)"
      ],
      "execution_count": null,
      "outputs": []
    },
    {
      "cell_type": "code",
      "metadata": {
        "colab": {
          "base_uri": "https://localhost:8080/"
        },
        "id": "onwX7bfCj1je",
        "outputId": "bc5a938b-5de6-495d-9375-631368f58ea2"
      },
      "source": [
        "test_labels_original[7]"
      ],
      "execution_count": null,
      "outputs": [
        {
          "output_type": "execute_result",
          "data": {
            "text/plain": [
              "9"
            ]
          },
          "metadata": {
            "tags": []
          },
          "execution_count": 110
        }
      ]
    },
    {
      "cell_type": "code",
      "metadata": {
        "colab": {
          "base_uri": "https://localhost:8080/"
        },
        "id": "JFDW0R-kkBXG",
        "outputId": "a79e61db-2de6-4043-f3d6-2fd40d46ceca"
      },
      "source": [
        "test_labels[7]"
      ],
      "execution_count": null,
      "outputs": [
        {
          "output_type": "execute_result",
          "data": {
            "text/plain": [
              "array([0., 0., 0., 0., 0., 0., 0., 0., 0., 1.], dtype=float32)"
            ]
          },
          "metadata": {
            "tags": []
          },
          "execution_count": 111
        }
      ]
    },
    {
      "cell_type": "code",
      "metadata": {
        "id": "i6crS3sAlN1E"
      },
      "source": [
        "from keras import layers, models"
      ],
      "execution_count": null,
      "outputs": []
    },
    {
      "cell_type": "code",
      "metadata": {
        "id": "WMWBRMTDoeaJ"
      },
      "source": [
        "model = models.Sequential()"
      ],
      "execution_count": null,
      "outputs": []
    },
    {
      "cell_type": "code",
      "metadata": {
        "id": "SKFb-0Avol8f"
      },
      "source": [
        "model.add(layers.Conv2D(32, (3,3), activation='relu', input_shape = (28, 28, 1)))"
      ],
      "execution_count": null,
      "outputs": []
    },
    {
      "cell_type": "code",
      "metadata": {
        "colab": {
          "base_uri": "https://localhost:8080/"
        },
        "id": "5NNcfoYrrc4V",
        "outputId": "e5cc899f-f637-495d-a7f7-db2590528dd3"
      },
      "source": [
        "model.summary()"
      ],
      "execution_count": null,
      "outputs": [
        {
          "output_type": "stream",
          "text": [
            "Model: \"sequential_2\"\n",
            "_________________________________________________________________\n",
            "Layer (type)                 Output Shape              Param #   \n",
            "=================================================================\n",
            "conv2d_6 (Conv2D)            (None, 26, 26, 32)        320       \n",
            "=================================================================\n",
            "Total params: 320\n",
            "Trainable params: 320\n",
            "Non-trainable params: 0\n",
            "_________________________________________________________________\n"
          ],
          "name": "stdout"
        }
      ]
    },
    {
      "cell_type": "code",
      "metadata": {
        "id": "DNsAUQR9rrhL"
      },
      "source": [
        "model.add(layers.MaxPooling2D((2,2)))"
      ],
      "execution_count": null,
      "outputs": []
    },
    {
      "cell_type": "code",
      "metadata": {
        "id": "CjeRPoUOsCYP"
      },
      "source": [
        "model.add(layers.Conv2D(64,(3,3), activation='relu'))"
      ],
      "execution_count": null,
      "outputs": []
    },
    {
      "cell_type": "code",
      "metadata": {
        "colab": {
          "base_uri": "https://localhost:8080/"
        },
        "id": "oN40JA3gspyC",
        "outputId": "4edeaf3d-3a32-48c4-f604-a97e07064658"
      },
      "source": [
        "model.summary()"
      ],
      "execution_count": null,
      "outputs": [
        {
          "output_type": "stream",
          "text": [
            "Model: \"sequential_2\"\n",
            "_________________________________________________________________\n",
            "Layer (type)                 Output Shape              Param #   \n",
            "=================================================================\n",
            "conv2d_6 (Conv2D)            (None, 26, 26, 32)        320       \n",
            "_________________________________________________________________\n",
            "max_pooling2d_4 (MaxPooling2 (None, 13, 13, 32)        0         \n",
            "_________________________________________________________________\n",
            "conv2d_7 (Conv2D)            (None, 11, 11, 64)        18496     \n",
            "=================================================================\n",
            "Total params: 18,816\n",
            "Trainable params: 18,816\n",
            "Non-trainable params: 0\n",
            "_________________________________________________________________\n"
          ],
          "name": "stdout"
        }
      ]
    },
    {
      "cell_type": "code",
      "metadata": {
        "id": "FPALZquCtJ81"
      },
      "source": [
        "model.add(layers.MaxPooling2D((2,2)))"
      ],
      "execution_count": null,
      "outputs": []
    },
    {
      "cell_type": "code",
      "metadata": {
        "id": "TCQ2Qb-DssPE"
      },
      "source": [
        "model.add(layers.Conv2D(64, (3,3), activation='relu'))"
      ],
      "execution_count": null,
      "outputs": []
    },
    {
      "cell_type": "code",
      "metadata": {
        "colab": {
          "base_uri": "https://localhost:8080/"
        },
        "id": "zwZnWz4RvKk-",
        "outputId": "24d66ca2-eca4-4274-9e1b-71cf451463b4"
      },
      "source": [
        "model.summary()"
      ],
      "execution_count": null,
      "outputs": [
        {
          "output_type": "stream",
          "text": [
            "Model: \"sequential_2\"\n",
            "_________________________________________________________________\n",
            "Layer (type)                 Output Shape              Param #   \n",
            "=================================================================\n",
            "conv2d_6 (Conv2D)            (None, 26, 26, 32)        320       \n",
            "_________________________________________________________________\n",
            "max_pooling2d_4 (MaxPooling2 (None, 13, 13, 32)        0         \n",
            "_________________________________________________________________\n",
            "conv2d_7 (Conv2D)            (None, 11, 11, 64)        18496     \n",
            "_________________________________________________________________\n",
            "max_pooling2d_5 (MaxPooling2 (None, 5, 5, 64)          0         \n",
            "_________________________________________________________________\n",
            "conv2d_8 (Conv2D)            (None, 3, 3, 64)          36928     \n",
            "=================================================================\n",
            "Total params: 55,744\n",
            "Trainable params: 55,744\n",
            "Non-trainable params: 0\n",
            "_________________________________________________________________\n"
          ],
          "name": "stdout"
        }
      ]
    },
    {
      "cell_type": "code",
      "metadata": {
        "id": "7gGC5h7evgc4"
      },
      "source": [
        "model.add(layers.Flatten())"
      ],
      "execution_count": null,
      "outputs": []
    },
    {
      "cell_type": "code",
      "metadata": {
        "colab": {
          "base_uri": "https://localhost:8080/"
        },
        "id": "0FH1uduXvl0I",
        "outputId": "760f0e60-1bca-49ca-d660-93a68c9c52eb"
      },
      "source": [
        "model.summary()"
      ],
      "execution_count": null,
      "outputs": [
        {
          "output_type": "stream",
          "text": [
            "Model: \"sequential_2\"\n",
            "_________________________________________________________________\n",
            "Layer (type)                 Output Shape              Param #   \n",
            "=================================================================\n",
            "conv2d_6 (Conv2D)            (None, 26, 26, 32)        320       \n",
            "_________________________________________________________________\n",
            "max_pooling2d_4 (MaxPooling2 (None, 13, 13, 32)        0         \n",
            "_________________________________________________________________\n",
            "conv2d_7 (Conv2D)            (None, 11, 11, 64)        18496     \n",
            "_________________________________________________________________\n",
            "max_pooling2d_5 (MaxPooling2 (None, 5, 5, 64)          0         \n",
            "_________________________________________________________________\n",
            "conv2d_8 (Conv2D)            (None, 3, 3, 64)          36928     \n",
            "_________________________________________________________________\n",
            "flatten_2 (Flatten)          (None, 576)               0         \n",
            "=================================================================\n",
            "Total params: 55,744\n",
            "Trainable params: 55,744\n",
            "Non-trainable params: 0\n",
            "_________________________________________________________________\n"
          ],
          "name": "stdout"
        }
      ]
    },
    {
      "cell_type": "code",
      "metadata": {
        "id": "qdh81IFTv2qP"
      },
      "source": [
        "model.add(layers.Dense(64, activation='relu'))"
      ],
      "execution_count": null,
      "outputs": []
    },
    {
      "cell_type": "code",
      "metadata": {
        "id": "0YXCpKBSv9_Z"
      },
      "source": [
        "model.add(layers.Dense(10, activation='softmax'))"
      ],
      "execution_count": null,
      "outputs": []
    },
    {
      "cell_type": "code",
      "metadata": {
        "colab": {
          "base_uri": "https://localhost:8080/"
        },
        "id": "DrPIGm_jwH2p",
        "outputId": "329f95cc-18cc-4d71-ecdb-36d0f5c6066f"
      },
      "source": [
        "model.summary()"
      ],
      "execution_count": null,
      "outputs": [
        {
          "output_type": "stream",
          "text": [
            "Model: \"sequential_2\"\n",
            "_________________________________________________________________\n",
            "Layer (type)                 Output Shape              Param #   \n",
            "=================================================================\n",
            "conv2d_6 (Conv2D)            (None, 26, 26, 32)        320       \n",
            "_________________________________________________________________\n",
            "max_pooling2d_4 (MaxPooling2 (None, 13, 13, 32)        0         \n",
            "_________________________________________________________________\n",
            "conv2d_7 (Conv2D)            (None, 11, 11, 64)        18496     \n",
            "_________________________________________________________________\n",
            "max_pooling2d_5 (MaxPooling2 (None, 5, 5, 64)          0         \n",
            "_________________________________________________________________\n",
            "conv2d_8 (Conv2D)            (None, 3, 3, 64)          36928     \n",
            "_________________________________________________________________\n",
            "flatten_2 (Flatten)          (None, 576)               0         \n",
            "_________________________________________________________________\n",
            "dense_5 (Dense)              (None, 64)                36928     \n",
            "_________________________________________________________________\n",
            "dense_6 (Dense)              (None, 10)                650       \n",
            "=================================================================\n",
            "Total params: 93,322\n",
            "Trainable params: 93,322\n",
            "Non-trainable params: 0\n",
            "_________________________________________________________________\n"
          ],
          "name": "stdout"
        }
      ]
    },
    {
      "cell_type": "code",
      "metadata": {
        "id": "06i1Csbhyrcz"
      },
      "source": [
        "model.compile(loss='categorical_crossentropy', optimizer='rmsprop', metrics=['accuracy'])"
      ],
      "execution_count": null,
      "outputs": []
    },
    {
      "cell_type": "code",
      "metadata": {
        "colab": {
          "base_uri": "https://localhost:8080/"
        },
        "id": "pPqzTbeC2Kiq",
        "outputId": "e1fefc60-296c-4400-c4d9-dbee52a4bcc0"
      },
      "source": [
        "model.fit(train_images, train_labels, epochs=100, batch_size=64)"
      ],
      "execution_count": null,
      "outputs": [
        {
          "output_type": "stream",
          "text": [
            "Epoch 1/100\n",
            "938/938 [==============================] - 8s 8ms/step - loss: 0.1648 - accuracy: 0.9485\n",
            "Epoch 2/100\n",
            "938/938 [==============================] - 7s 8ms/step - loss: 0.0453 - accuracy: 0.9857\n",
            "Epoch 3/100\n",
            "938/938 [==============================] - 7s 8ms/step - loss: 0.0307 - accuracy: 0.9907\n",
            "Epoch 4/100\n",
            "938/938 [==============================] - 7s 8ms/step - loss: 0.0233 - accuracy: 0.9931\n",
            "Epoch 5/100\n",
            "938/938 [==============================] - 8s 8ms/step - loss: 0.0186 - accuracy: 0.9946\n",
            "Epoch 6/100\n",
            "938/938 [==============================] - 8s 8ms/step - loss: 0.0155 - accuracy: 0.9955\n",
            "Epoch 7/100\n",
            "938/938 [==============================] - 7s 8ms/step - loss: 0.0121 - accuracy: 0.9963\n",
            "Epoch 8/100\n",
            "938/938 [==============================] - 7s 8ms/step - loss: 0.0106 - accuracy: 0.9968\n",
            "Epoch 9/100\n",
            "938/938 [==============================] - 7s 8ms/step - loss: 0.0093 - accuracy: 0.9973\n",
            "Epoch 10/100\n",
            "938/938 [==============================] - 7s 8ms/step - loss: 0.0074 - accuracy: 0.9978\n",
            "Epoch 11/100\n",
            "938/938 [==============================] - 7s 8ms/step - loss: 0.0069 - accuracy: 0.9980\n",
            "Epoch 12/100\n",
            "938/938 [==============================] - 7s 8ms/step - loss: 0.0059 - accuracy: 0.9982\n",
            "Epoch 13/100\n",
            "938/938 [==============================] - 8s 8ms/step - loss: 0.0049 - accuracy: 0.9985\n",
            "Epoch 14/100\n",
            "938/938 [==============================] - 8s 8ms/step - loss: 0.0049 - accuracy: 0.9988\n",
            "Epoch 15/100\n",
            "938/938 [==============================] - 7s 8ms/step - loss: 0.0039 - accuracy: 0.9989\n",
            "Epoch 16/100\n",
            "938/938 [==============================] - 7s 8ms/step - loss: 0.0047 - accuracy: 0.9989\n",
            "Epoch 17/100\n",
            "938/938 [==============================] - 7s 8ms/step - loss: 0.0029 - accuracy: 0.9990\n",
            "Epoch 18/100\n",
            "938/938 [==============================] - 7s 8ms/step - loss: 0.0028 - accuracy: 0.9991\n",
            "Epoch 19/100\n",
            "938/938 [==============================] - 7s 8ms/step - loss: 0.0030 - accuracy: 0.9991\n",
            "Epoch 20/100\n",
            "938/938 [==============================] - 7s 8ms/step - loss: 0.0030 - accuracy: 0.9993\n",
            "Epoch 21/100\n",
            "938/938 [==============================] - 7s 8ms/step - loss: 0.0029 - accuracy: 0.9991\n",
            "Epoch 22/100\n",
            "938/938 [==============================] - 7s 8ms/step - loss: 0.0030 - accuracy: 0.9992\n",
            "Epoch 23/100\n",
            "938/938 [==============================] - 7s 8ms/step - loss: 0.0028 - accuracy: 0.9993\n",
            "Epoch 24/100\n",
            "938/938 [==============================] - 7s 8ms/step - loss: 0.0031 - accuracy: 0.9992\n",
            "Epoch 25/100\n",
            "938/938 [==============================] - 7s 8ms/step - loss: 0.0032 - accuracy: 0.9993\n",
            "Epoch 26/100\n",
            "938/938 [==============================] - 7s 8ms/step - loss: 0.0029 - accuracy: 0.9993\n",
            "Epoch 27/100\n",
            "938/938 [==============================] - 7s 8ms/step - loss: 0.0034 - accuracy: 0.9992\n",
            "Epoch 28/100\n",
            "938/938 [==============================] - 7s 8ms/step - loss: 0.0013 - accuracy: 0.9997\n",
            "Epoch 29/100\n",
            "938/938 [==============================] - 7s 8ms/step - loss: 0.0025 - accuracy: 0.9994\n",
            "Epoch 30/100\n",
            "938/938 [==============================] - 7s 8ms/step - loss: 0.0025 - accuracy: 0.9995\n",
            "Epoch 31/100\n",
            "938/938 [==============================] - 7s 8ms/step - loss: 0.0020 - accuracy: 0.9995\n",
            "Epoch 32/100\n",
            "938/938 [==============================] - 7s 8ms/step - loss: 0.0020 - accuracy: 0.9995\n",
            "Epoch 33/100\n",
            "938/938 [==============================] - 7s 8ms/step - loss: 0.0025 - accuracy: 0.9995\n",
            "Epoch 34/100\n",
            "938/938 [==============================] - 7s 8ms/step - loss: 0.0018 - accuracy: 0.9995\n",
            "Epoch 35/100\n",
            "938/938 [==============================] - 7s 8ms/step - loss: 0.0028 - accuracy: 0.9993\n",
            "Epoch 36/100\n",
            "938/938 [==============================] - 7s 8ms/step - loss: 0.0025 - accuracy: 0.9995\n",
            "Epoch 37/100\n",
            "938/938 [==============================] - 7s 8ms/step - loss: 0.0016 - accuracy: 0.9996\n",
            "Epoch 38/100\n",
            "938/938 [==============================] - 7s 8ms/step - loss: 0.0017 - accuracy: 0.9997\n",
            "Epoch 39/100\n",
            "938/938 [==============================] - 7s 8ms/step - loss: 0.0015 - accuracy: 0.9997\n",
            "Epoch 40/100\n",
            "938/938 [==============================] - 7s 8ms/step - loss: 0.0029 - accuracy: 0.9995\n",
            "Epoch 41/100\n",
            "938/938 [==============================] - 7s 8ms/step - loss: 0.0025 - accuracy: 0.9995\n",
            "Epoch 42/100\n",
            "938/938 [==============================] - 7s 8ms/step - loss: 0.0019 - accuracy: 0.9997\n",
            "Epoch 43/100\n",
            "938/938 [==============================] - 7s 8ms/step - loss: 0.0016 - accuracy: 0.9996\n",
            "Epoch 44/100\n",
            "938/938 [==============================] - 7s 8ms/step - loss: 0.0014 - accuracy: 0.9997\n",
            "Epoch 45/100\n",
            "938/938 [==============================] - 7s 8ms/step - loss: 0.0019 - accuracy: 0.9997\n",
            "Epoch 46/100\n",
            "938/938 [==============================] - 7s 8ms/step - loss: 0.0022 - accuracy: 0.9996\n",
            "Epoch 47/100\n",
            "938/938 [==============================] - 8s 9ms/step - loss: 0.0012 - accuracy: 0.9998\n",
            "Epoch 48/100\n",
            "938/938 [==============================] - 8s 8ms/step - loss: 0.0012 - accuracy: 0.9998\n",
            "Epoch 49/100\n",
            "938/938 [==============================] - 8s 8ms/step - loss: 0.0016 - accuracy: 0.9998\n",
            "Epoch 50/100\n",
            "938/938 [==============================] - 8s 8ms/step - loss: 0.0022 - accuracy: 0.9996\n",
            "Epoch 51/100\n",
            "938/938 [==============================] - 8s 8ms/step - loss: 0.0015 - accuracy: 0.9998\n",
            "Epoch 52/100\n",
            "938/938 [==============================] - 7s 8ms/step - loss: 0.0027 - accuracy: 0.9996\n",
            "Epoch 53/100\n",
            "938/938 [==============================] - 7s 8ms/step - loss: 0.0018 - accuracy: 0.9997\n",
            "Epoch 54/100\n",
            "938/938 [==============================] - 8s 8ms/step - loss: 8.5603e-04 - accuracy: 0.9999\n",
            "Epoch 55/100\n",
            "938/938 [==============================] - 8s 8ms/step - loss: 0.0017 - accuracy: 0.9998\n",
            "Epoch 56/100\n",
            "938/938 [==============================] - 7s 8ms/step - loss: 0.0016 - accuracy: 0.9997\n",
            "Epoch 57/100\n",
            "938/938 [==============================] - 7s 8ms/step - loss: 0.0016 - accuracy: 0.9998\n",
            "Epoch 58/100\n",
            "938/938 [==============================] - 7s 8ms/step - loss: 0.0013 - accuracy: 0.9997\n",
            "Epoch 59/100\n",
            "938/938 [==============================] - 7s 8ms/step - loss: 0.0024 - accuracy: 0.9996\n",
            "Epoch 60/100\n",
            "938/938 [==============================] - 7s 8ms/step - loss: 0.0017 - accuracy: 0.9997\n",
            "Epoch 61/100\n",
            "938/938 [==============================] - 7s 8ms/step - loss: 2.6541e-04 - accuracy: 0.9999\n",
            "Epoch 62/100\n",
            "938/938 [==============================] - 7s 8ms/step - loss: 0.0016 - accuracy: 0.9998\n",
            "Epoch 63/100\n",
            "938/938 [==============================] - 7s 8ms/step - loss: 0.0018 - accuracy: 0.9998\n",
            "Epoch 64/100\n",
            "938/938 [==============================] - 7s 8ms/step - loss: 0.0013 - accuracy: 0.9998\n",
            "Epoch 65/100\n",
            "938/938 [==============================] - 7s 8ms/step - loss: 8.3349e-05 - accuracy: 1.0000\n",
            "Epoch 66/100\n",
            "938/938 [==============================] - 7s 8ms/step - loss: 0.0011 - accuracy: 0.9999\n",
            "Epoch 67/100\n",
            "938/938 [==============================] - 7s 8ms/step - loss: 0.0016 - accuracy: 0.9998\n",
            "Epoch 68/100\n",
            "938/938 [==============================] - 7s 8ms/step - loss: 0.0014 - accuracy: 0.9997\n",
            "Epoch 69/100\n",
            "938/938 [==============================] - 7s 8ms/step - loss: 0.0022 - accuracy: 0.9997\n",
            "Epoch 70/100\n",
            "938/938 [==============================] - 7s 8ms/step - loss: 0.0014 - accuracy: 0.9998\n",
            "Epoch 71/100\n",
            "938/938 [==============================] - 7s 8ms/step - loss: 3.9624e-04 - accuracy: 0.9999\n",
            "Epoch 72/100\n",
            "938/938 [==============================] - 7s 8ms/step - loss: 5.0076e-04 - accuracy: 0.9998\n",
            "Epoch 73/100\n",
            "938/938 [==============================] - 7s 8ms/step - loss: 0.0012 - accuracy: 0.9998\n",
            "Epoch 74/100\n",
            "938/938 [==============================] - 7s 8ms/step - loss: 0.0011 - accuracy: 0.9998\n",
            "Epoch 75/100\n",
            "938/938 [==============================] - 7s 8ms/step - loss: 0.0012 - accuracy: 0.9998\n",
            "Epoch 76/100\n",
            "938/938 [==============================] - 7s 8ms/step - loss: 0.0010 - accuracy: 0.9998\n",
            "Epoch 77/100\n",
            "938/938 [==============================] - 7s 8ms/step - loss: 6.1304e-04 - accuracy: 0.9998\n",
            "Epoch 78/100\n",
            "938/938 [==============================] - 7s 8ms/step - loss: 8.4616e-04 - accuracy: 0.9999\n",
            "Epoch 79/100\n",
            "938/938 [==============================] - 7s 8ms/step - loss: 0.0012 - accuracy: 0.9998\n",
            "Epoch 80/100\n",
            "938/938 [==============================] - 7s 8ms/step - loss: 8.2339e-04 - accuracy: 0.9998\n",
            "Epoch 81/100\n",
            "938/938 [==============================] - 7s 8ms/step - loss: 0.0010 - accuracy: 0.9998\n",
            "Epoch 82/100\n",
            "938/938 [==============================] - 7s 8ms/step - loss: 0.0021 - accuracy: 0.9998\n",
            "Epoch 83/100\n",
            "938/938 [==============================] - 7s 8ms/step - loss: 6.9652e-04 - accuracy: 0.9998\n",
            "Epoch 84/100\n",
            "938/938 [==============================] - 7s 8ms/step - loss: 0.0010 - accuracy: 0.9998\n",
            "Epoch 85/100\n",
            "938/938 [==============================] - 7s 8ms/step - loss: 9.1848e-04 - accuracy: 0.9999\n",
            "Epoch 86/100\n",
            "938/938 [==============================] - 7s 8ms/step - loss: 0.0011 - accuracy: 0.9999\n",
            "Epoch 87/100\n",
            "938/938 [==============================] - 7s 8ms/step - loss: 1.0750e-04 - accuracy: 0.9999\n",
            "Epoch 88/100\n",
            "938/938 [==============================] - 8s 8ms/step - loss: 0.0021 - accuracy: 0.9998\n",
            "Epoch 89/100\n",
            "938/938 [==============================] - 8s 9ms/step - loss: 0.0017 - accuracy: 0.9998\n",
            "Epoch 90/100\n",
            "938/938 [==============================] - 8s 8ms/step - loss: 6.6175e-04 - accuracy: 0.9999\n",
            "Epoch 91/100\n",
            "938/938 [==============================] - 7s 8ms/step - loss: 5.0142e-04 - accuracy: 0.9999\n",
            "Epoch 92/100\n",
            "938/938 [==============================] - 8s 8ms/step - loss: 5.8531e-04 - accuracy: 0.9999\n",
            "Epoch 93/100\n",
            "938/938 [==============================] - 8s 8ms/step - loss: 4.2869e-04 - accuracy: 0.9998\n",
            "Epoch 94/100\n",
            "938/938 [==============================] - 8s 8ms/step - loss: 0.0015 - accuracy: 0.9998\n",
            "Epoch 95/100\n",
            "938/938 [==============================] - 8s 8ms/step - loss: 7.5711e-04 - accuracy: 0.9998\n",
            "Epoch 96/100\n",
            "938/938 [==============================] - 8s 8ms/step - loss: 0.0013 - accuracy: 0.9997\n",
            "Epoch 97/100\n",
            "938/938 [==============================] - 8s 8ms/step - loss: 5.2488e-04 - accuracy: 0.9999\n",
            "Epoch 98/100\n",
            "938/938 [==============================] - 8s 8ms/step - loss: 0.0014 - accuracy: 0.9999\n",
            "Epoch 99/100\n",
            "938/938 [==============================] - 8s 8ms/step - loss: 0.0011 - accuracy: 0.9998\n",
            "Epoch 100/100\n",
            "938/938 [==============================] - 8s 8ms/step - loss: 0.0013 - accuracy: 0.9998\n"
          ],
          "name": "stdout"
        },
        {
          "output_type": "execute_result",
          "data": {
            "text/plain": [
              "<tensorflow.python.keras.callbacks.History at 0x7f95ef146588>"
            ]
          },
          "metadata": {
            "tags": []
          },
          "execution_count": 128
        }
      ]
    },
    {
      "cell_type": "code",
      "metadata": {
        "colab": {
          "base_uri": "https://localhost:8080/"
        },
        "id": "VcLTQjwVChp-",
        "outputId": "2f94f36a-7103-4b22-82c4-1a3f1f0383b2"
      },
      "source": [
        "test_loss, test_accuracy = model.evaluate(test_images, test_labels)"
      ],
      "execution_count": null,
      "outputs": [
        {
          "output_type": "stream",
          "text": [
            "313/313 [==============================] - 1s 4ms/step - loss: 0.2596 - accuracy: 0.9925\n"
          ],
          "name": "stdout"
        }
      ]
    },
    {
      "cell_type": "code",
      "metadata": {
        "colab": {
          "base_uri": "https://localhost:8080/"
        },
        "id": "Q3DD3AQsDSZQ",
        "outputId": "482e6cd0-07de-4848-8a94-852a63e36005"
      },
      "source": [
        "test_accuracy"
      ],
      "execution_count": null,
      "outputs": [
        {
          "output_type": "execute_result",
          "data": {
            "text/plain": [
              "0.9925000071525574"
            ]
          },
          "metadata": {
            "tags": []
          },
          "execution_count": 130
        }
      ]
    },
    {
      "cell_type": "code",
      "metadata": {
        "id": "Ul34LqNFDd2X"
      },
      "source": [
        "predictions = model.predict_classes(test_images)"
      ],
      "execution_count": null,
      "outputs": []
    },
    {
      "cell_type": "code",
      "metadata": {
        "colab": {
          "base_uri": "https://localhost:8080/",
          "height": 282
        },
        "id": "jf--Y8_hDzHc",
        "outputId": "5aff6c0e-3356-4b5a-e202-6b91e0e41106"
      },
      "source": [
        "plt.imshow(image.array_to_img(test_images[70]), cmap=\"gray\")"
      ],
      "execution_count": null,
      "outputs": [
        {
          "output_type": "execute_result",
          "data": {
            "text/plain": [
              "<matplotlib.image.AxesImage at 0x7f95ed6e6b00>"
            ]
          },
          "metadata": {
            "tags": []
          },
          "execution_count": 132
        },
        {
          "output_type": "display_data",
          "data": {
            "image/png": "[encoded data removed]",
            "text/plain": [
              "<Figure size 432x288 with 1 Axes>"
            ]
          },
          "metadata": {
            "tags": [],
            "needs_background": "light"
          }
        }
      ]
    },
    {
      "cell_type": "code",
      "metadata": {
        "colab": {
          "base_uri": "https://localhost:8080/"
        },
        "id": "FiN-ft1cFDDd",
        "outputId": "4bfe8f78-804c-415f-86f6-22aa95adae75"
      },
      "source": [
        "predictions[70]"
      ],
      "execution_count": null,
      "outputs": [
        {
          "output_type": "execute_result",
          "data": {
            "text/plain": [
              "7"
            ]
          },
          "metadata": {
            "tags": []
          },
          "execution_count": 133
        }
      ]
    },
    {
      "cell_type": "code",
      "metadata": {
        "id": "_UTn-2hbHUoc",
        "colab": {
          "base_uri": "https://localhost:8080/",
          "height": 298
        },
        "outputId": "518fe5f2-a397-4721-a719-32db8ce75e16"
      },
      "source": [
        "img=image.load_img(path=\"/content/screen1.png\",grayscale=True, target_size=(28,28,1))\n",
        "img=image.img_to_array(img)\n",
        "plt.imshow(image.array_to_img(img), cmap=\"gray\")\n",
        "img=img.astype('float')/255\n",
        "test_img=img.reshape((1,28,28,1))\n",
        "img_class=model.predict_classes(test_img)\n",
        "prediction=img_class[0]"
      ],
      "execution_count": null,
      "outputs": [
        {
          "output_type": "stream",
          "text": [
            "/usr/local/lib/python3.6/dist-packages/keras_preprocessing/image/utils.py:107: UserWarning: grayscale is deprecated. Please use color_mode = \"grayscale\"\n",
            "  warnings.warn('grayscale is deprecated. Please use '\n"
          ],
          "name": "stderr"
        },
        {
          "output_type": "display_data",
          "data": {
            "image/png": "[encoded data removed]",
            "text/plain": [
              "<Figure size 432x288 with 1 Axes>"
            ]
          },
          "metadata": {
            "tags": [],
            "needs_background": "light"
          }
        }
      ]
    },
    {
      "cell_type": "code",
      "metadata": {
        "colab": {
          "base_uri": "https://localhost:8080/"
        },
        "id": "w1vrMph7ZrIB",
        "outputId": "dd8cc2bf-a5dd-40d9-ec8d-d4267640bf61"
      },
      "source": [
        "prediction"
      ],
      "execution_count": null,
      "outputs": [
        {
          "output_type": "execute_result",
          "data": {
            "text/plain": [
              "8"
            ]
          },
          "metadata": {
            "tags": []
          },
          "execution_count": 137
        }
      ]
    }
  ]
}